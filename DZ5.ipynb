{
 "cells": [
  {
   "cell_type": "code",
   "execution_count": null,
   "metadata": {},
   "outputs": [],
   "source": []
  },
  {
   "attachments": {},
   "cell_type": "markdown",
   "metadata": {},
   "source": [
    "# Урок 5\n",
    "## Задача 1 \n",
    "Вы провели эксперимент c упрощением формы заказа в магазине Утконос и получили результаты по метрике конверсий в покупку. Выберите метод оценки и оцените есть ли стат.значимые различия между конверсиями в двух группах при alpha = 5%. Дайте краткие рекомендации команде.  \n",
    "Результаты:  \n",
    "- Число юзеров в группах , которые заходили на сайт в период эксперимента: n1 = 15550 и n2 = 15550 .  \n",
    "- Число юзеров в группах , которые совершили хотя бы одну покупку за период эксперимента: n1 = 164 и n2 = 228  \n",
    "- Конверсии : conv1 = 1.05% conv2 = 1.47% ."
   ]
  },
  {
   "attachments": {},
   "cell_type": "markdown",
   "metadata": {},
   "source": [
    "$M_0: conv1 = conv2$  \n",
    "$M_1: conv1 \\not= conv2$\n"
   ]
  },
  {
   "cell_type": "code",
   "execution_count": null,
   "metadata": {},
   "outputs": [
    {
     "data": {
      "text/plain": [
       "(-0.0066789097833951545, 0.0066789097833951545)"
      ]
     },
     "execution_count": 3,
     "metadata": {},
     "output_type": "execute_result"
    }
   ],
   "source": [
    "n = 15550\n",
    "p1 = 0.0105\n",
    "p2 = 0.0147\n",
    "p1 - p2 - 1.96 * (p1 * ( 1- p1) / n + p2 * (1 - p2) / n) ** 0.5, p2 - p1 + 1.96 * (p1 * ( 1- p1) / n + p2 * (1 - p2) / n) ** 0.5\n"
   ]
  },
  {
   "attachments": {},
   "cell_type": "markdown",
   "metadata": {},
   "source": [
    "0 входит в интервал, значит на основе собранных данных статистически значимой разницы между группами не обнаружено.  \n",
    "\n",
    "### Рекомендации команде\n",
    "\n",
    "Выкатывать изменения не имеет смысла"
   ]
  },
  {
   "attachments": {},
   "cell_type": "markdown",
   "metadata": {},
   "source": [
    "## Задача 2\n",
    "Сравниваем метрику конверсия в покупку. Размер выборки - 10000 элементов в каждой группе . Какой статистический критерий тут лучше всего подойдёт и почему?\n",
    "\n",
    "Наилучший метод чтобы проверить статистическую значимость изменения для пропорций это метод Хи‑Квадрат."
   ]
  }
 ],
 "metadata": {
  "kernelspec": {
   "display_name": "Python 3",
   "language": "python",
   "name": "python3"
  },
  "language_info": {
   "codemirror_mode": {
    "name": "ipython",
    "version": 3
   },
   "file_extension": ".py",
   "mimetype": "text/x-python",
   "name": "python",
   "nbconvert_exporter": "python",
   "pygments_lexer": "ipython3",
   "version": "3.11.1"
  },
  "orig_nbformat": 4
 },
 "nbformat": 4,
 "nbformat_minor": 2
}
